{
 "cells": [
  {
   "cell_type": "code",
   "execution_count": 538,
   "metadata": {},
   "outputs": [],
   "source": [
    "import tensorflow as tf\n",
    "import numpy as np\n",
    "import pandas as pd\n",
    "from sklearn.model_selection import train_test_split"
   ]
  },
  {
   "cell_type": "code",
   "execution_count": 539,
   "metadata": {},
   "outputs": [],
   "source": [
    "df=pd.read_csv('iris.data',names=['f1','f2','f3','f4','f5'])\n",
    "df['f5']= df['f5'].map({'Iris-setosa': 0, 'Iris-versicolor': 1,'Iris-virginica':2})\n",
    "X=np.array(df.drop('f5',1))\n",
    "X=X.astype('float32')\n",
    "y=y.astype('float32')\n",
    "y=np.array(df['f5'])\n",
    "X_train, X_test,y_train,y_test=train_test_split(X,y,test_size=0.7)\n",
    "size=X_train.shape[0]\n",
    "test_size=X_test.shape[0]\n",
    "#print(size)\n",
    "#print(y_test.shape[0])"
   ]
  },
  {
   "cell_type": "code",
   "execution_count": 540,
   "metadata": {},
   "outputs": [],
   "source": [
    "tf.reset_default_graph() \n",
    "X1=tf.placeholder(tf.float32,shape=(size,4),name='X1')\n",
    "Y1=tf.placeholder(tf.int32,shape=(size,),name='Y1')\n",
    "XTest=tf.placeholder(tf.float32,shape=(test_size,4),name='XTest')"
   ]
  },
  {
   "cell_type": "code",
   "execution_count": 541,
   "metadata": {},
   "outputs": [],
   "source": [
    "Y_hot_train = tf.one_hot(indices=Y1,depth=3)"
   ]
  },
  {
   "cell_type": "code",
   "execution_count": 542,
   "metadata": {},
   "outputs": [],
   "source": [
    "tf.set_random_seed(1)\n",
    "W1=tf.get_variable(\"W1\",[5,4],initializer = tf.contrib.layers.xavier_initializer(seed = 1))\n",
    "W2=tf.get_variable(\"W2\",[3,5],initializer = tf.contrib.layers.xavier_initializer(seed = 1))\n",
    "b1=tf.get_variable(\"b1\",[1,5],initializer = tf.zeros_initializer())\n",
    "b2=tf.get_variable(\"b2\",[1,3],initializer = tf.zeros_initializer())\n"
   ]
  },
  {
   "cell_type": "code",
   "execution_count": 543,
   "metadata": {},
   "outputs": [],
   "source": [
    "Z1 = tf.add(tf.matmul(X1,tf.transpose(W1)),b1)                                              \n",
    "A1 = tf.nn.relu(Z1)                                              \n",
    "Z2 = tf.add(tf.matmul(A1,tf.transpose(W2)),b2)\n",
    "A2 = tf.nn.softmax(Z2)"
   ]
  },
  {
   "cell_type": "code",
   "execution_count": 544,
   "metadata": {},
   "outputs": [],
   "source": [
    "cost = tf.reduce_mean(tf.nn.softmax_cross_entropy_with_logits(logits = A2, labels = Y_hot_train))\n"
   ]
  },
  {
   "cell_type": "code",
   "execution_count": 545,
   "metadata": {},
   "outputs": [],
   "source": [
    "optimizer = tf.train.AdamOptimizer(learning_rate = 0.002).minimize(cost)\n",
    "init = tf.global_variables_initializer()\n"
   ]
  },
  {
   "cell_type": "code",
   "execution_count": 546,
   "metadata": {},
   "outputs": [
    {
     "name": "stdout",
     "output_type": "stream",
     "text": [
      "1.0791054\n",
      "1.0226327\n",
      "0.80891675\n",
      "0.70199984\n",
      "0.6439924\n",
      "0.61223686\n",
      "0.59339523\n",
      "0.5819117\n",
      "0.5744251\n",
      "0.56932306\n",
      "0.5657163\n",
      "0.5630807\n",
      "0.5610982\n",
      "0.5595695\n",
      "0.5583654\n",
      "0.5573995\n",
      "0.55661285\n",
      "0.55596346\n",
      "0.5554213\n",
      "0.554964\n"
     ]
    }
   ],
   "source": [
    "sess = tf.Session()\n",
    "sess.run(init)\n",
    "for i in range(2000):\n",
    "    _,min_cost = sess.run([optimizer,cost] ,feed_dict={X1 : X_train, Y1: y_train})\n",
    "    if i%100==0 :\n",
    "       print(min_cost)\n"
   ]
  },
  {
   "cell_type": "code",
   "execution_count": 547,
   "metadata": {},
   "outputs": [
    {
     "name": "stdout",
     "output_type": "stream",
     "text": [
      "0.96190476\n"
     ]
    }
   ],
   "source": [
    "Z3 = tf.add(tf.matmul(XTest,tf.transpose(W1)),b1)                                              \n",
    "A3 = tf.nn.relu(Z3)                                              \n",
    "Z4 = tf.add(tf.matmul(A3,tf.transpose(W2)),b2)\n",
    "Z4 = tf.nn.softmax(Z4)\n",
    "Result = tf.argmax(Z4,axis=-1)\n",
    "correct_prediction = tf.equal(Result, y_test)\n",
    "accuracy = tf.reduce_mean(tf.cast(correct_prediction, \"float\"))\n",
    "\n",
    "accuracy = sess.run(accuracy,feed_dict={XTest : X_test})\n",
    "print(accuracy)"
   ]
  },
  {
   "cell_type": "code",
   "execution_count": null,
   "metadata": {},
   "outputs": [],
   "source": []
  },
  {
   "cell_type": "code",
   "execution_count": null,
   "metadata": {},
   "outputs": [],
   "source": []
  }
 ],
 "metadata": {
  "kernelspec": {
   "display_name": "Python 3",
   "language": "python",
   "name": "python3"
  },
  "language_info": {
   "codemirror_mode": {
    "name": "ipython",
    "version": 3
   },
   "file_extension": ".py",
   "mimetype": "text/x-python",
   "name": "python",
   "nbconvert_exporter": "python",
   "pygments_lexer": "ipython3",
   "version": "3.5.2"
  }
 },
 "nbformat": 4,
 "nbformat_minor": 2
}
